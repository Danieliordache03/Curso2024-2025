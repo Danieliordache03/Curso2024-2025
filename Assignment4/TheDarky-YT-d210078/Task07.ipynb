{
  "cells": [
    {
      "cell_type": "markdown",
      "metadata": {
        "id": "nOOPLCHF7hLB"
      },
      "source": [
        "**Task 07: Querying RDF(s)**"
      ]
    },
    {
      "cell_type": "code",
      "execution_count": 10,
      "metadata": {
        "colab": {
          "base_uri": "https://localhost:8080/"
        },
        "id": "Yl9npCt8n6m-",
        "outputId": "8ecb02c9-fb95-4701-c5b8-f1834c2d2b9e"
      },
      "outputs": [
        {
          "output_type": "stream",
          "name": "stdout",
          "text": [
            "Requirement already satisfied: rdflib in /usr/local/lib/python3.10/dist-packages (7.0.0)\n",
            "Requirement already satisfied: isodate<0.7.0,>=0.6.0 in /usr/local/lib/python3.10/dist-packages (from rdflib) (0.6.1)\n",
            "Requirement already satisfied: pyparsing<4,>=2.1.0 in /usr/local/lib/python3.10/dist-packages (from rdflib) (3.1.4)\n",
            "Requirement already satisfied: six in /usr/local/lib/python3.10/dist-packages (from isodate<0.7.0,>=0.6.0->rdflib) (1.16.0)\n"
          ]
        }
      ],
      "source": [
        "!pip install rdflib\n",
        "github_storage = \"https://raw.githubusercontent.com/FacultadInformatica-LinkedData/Curso2024-2025/master/Assignment4/course_materials\""
      ]
    },
    {
      "cell_type": "markdown",
      "metadata": {
        "id": "XY7aPc86Bqoo"
      },
      "source": [
        "First let's read the RDF file"
      ]
    },
    {
      "cell_type": "code",
      "execution_count": 11,
      "metadata": {
        "colab": {
          "base_uri": "https://localhost:8080/"
        },
        "id": "9ERh415on7kF",
        "outputId": "33bf5ab4-67dc-430f-8752-22126ca02ef0"
      },
      "outputs": [
        {
          "output_type": "execute_result",
          "data": {
            "text/plain": [
              "<Graph identifier=N007e36a5a18244d798b627dda96fbf16 (<class 'rdflib.graph.Graph'>)>"
            ]
          },
          "metadata": {},
          "execution_count": 11
        }
      ],
      "source": [
        "from rdflib import Graph, Namespace, Literal\n",
        "from rdflib.namespace import RDF, RDFS\n",
        "g = Graph()\n",
        "g.namespace_manager.bind('ns', Namespace(\"http://somewhere#\"), override=False)\n",
        "g.namespace_manager.bind('vcard', Namespace(\"http://www.w3.org/2001/vcard-rdf/3.0#\"), override=False)\n",
        "g.parse(github_storage+\"/rdf/example6.rdf\", format=\"xml\")"
      ]
    },
    {
      "cell_type": "markdown",
      "metadata": {
        "id": "qp1oe2Eddsvo"
      },
      "source": [
        "**TASK 7.1: List all subclasses of \"LivingThing\" with RDFLib and SPARQL**"
      ]
    },
    {
      "cell_type": "code",
      "execution_count": 12,
      "metadata": {
        "id": "tRcSWuMHOXBl",
        "colab": {
          "base_uri": "https://localhost:8080/"
        },
        "outputId": "92284d87-4b82-4ea8-e9cc-16735f9e6ec9"
      },
      "outputs": [
        {
          "output_type": "stream",
          "name": "stdout",
          "text": [
            "(rdflib.term.URIRef('http://somewhere#Person'),)\n",
            "(rdflib.term.URIRef('http://somewhere#Animal'),)\n"
          ]
        }
      ],
      "source": [
        "q1 = \"\"\"\n",
        "SELECT ?Subject WHERE {\n",
        "  ?Subject rdfs:subClassOf ns:LivingThing\n",
        "}\n",
        "\"\"\"\n",
        "\n",
        "for r in g.query(q1):\n",
        "  print(r)"
      ]
    },
    {
      "cell_type": "markdown",
      "metadata": {
        "id": "gM3DASkTQQ5Y"
      },
      "source": [
        "**TASK 7.2: List all individuals of \"Person\" with RDFLib and SPARQL (remember the subClasses)**\n"
      ]
    },
    {
      "cell_type": "code",
      "execution_count": 13,
      "metadata": {
        "id": "LiKSPHRzS-XJ",
        "colab": {
          "base_uri": "https://localhost:8080/"
        },
        "outputId": "7a5b1607-2c68-43e7-9355-6a4bb57a0995"
      },
      "outputs": [
        {
          "output_type": "stream",
          "name": "stdout",
          "text": [
            "(rdflib.term.URIRef('http://somewhere#SaraJones'),)\n",
            "(rdflib.term.URIRef('http://somewhere#JohnSmith'),)\n",
            "(rdflib.term.URIRef('http://somewhere#JaneSmith'),)\n",
            "(rdflib.term.URIRef('http://somewhere#JimGonzalez'),)\n"
          ]
        }
      ],
      "source": [
        "q2 = \"\"\"\n",
        "SELECT ?Subject WHERE {\n",
        "  ?Subject rdf:type ?a .\n",
        "  ?a rdfs:subClassOf* ns:Person\n",
        "}\n",
        "\"\"\"\n",
        "\n",
        "for r in g.query(q2):\n",
        "  print(r)"
      ]
    },
    {
      "cell_type": "markdown",
      "metadata": {
        "id": "MXBqtBkJd22I"
      },
      "source": [
        "**TASK 7.3: List all individuals of just \"Person\" or \"Animal\". You do not need to list the individuals of the subclasses of person (in SPARQL only)**\n"
      ]
    },
    {
      "cell_type": "code",
      "execution_count": 14,
      "metadata": {
        "id": "APQGv3NHX8Tf",
        "colab": {
          "base_uri": "https://localhost:8080/"
        },
        "outputId": "528435b5-38b5-4cdc-b2e0-c689cdeb85f1"
      },
      "outputs": [
        {
          "output_type": "stream",
          "name": "stdout",
          "text": [
            "(rdflib.term.URIRef('http://somewhere#SaraJones'),)\n",
            "(rdflib.term.URIRef('http://somewhere#JohnSmith'),)\n",
            "(rdflib.term.URIRef('http://somewhere#RockySmith'),)\n",
            "(rdflib.term.URIRef('http://somewhere#Bugs'),)\n"
          ]
        }
      ],
      "source": [
        "q3 = \"\"\"\n",
        "SELECT ?Subject WHERE {\n",
        "  { ?Subject rdf:type ns:Person } UNION { ?Subject rdf:type ns:Animal }\n",
        "}\n",
        "\"\"\"\n",
        "\n",
        "for r in g.query(q3):\n",
        "  print(r)"
      ]
    },
    {
      "cell_type": "markdown",
      "source": [
        "**TASK 7.4:  List the name of the persons who know Rocky (in SPARQL only)**"
      ],
      "metadata": {
        "id": "3NyI7M2VNr9R"
      }
    },
    {
      "cell_type": "code",
      "source": [
        "q4 = \"\"\"\n",
        "SELECT ?name WHERE {\n",
        "  ?p ns:knows ns:RockySmith.\n",
        "  ?p vcard:FN ?name\n",
        "}\n",
        "\"\"\"\n",
        "\n",
        "for r in g.query(q4):\n",
        "  print(r)"
      ],
      "metadata": {
        "id": "I_CNoIKdNpbx"
      },
      "execution_count": 15,
      "outputs": []
    },
    {
      "cell_type": "markdown",
      "source": [
        "**Task 7.5: List the name of those animals who know at least another animal in the graph (in SPARQL only)**"
      ],
      "metadata": {
        "id": "kyjGsyxDPa2C"
      }
    },
    {
      "cell_type": "code",
      "source": [
        "q5 = \"\"\"\n",
        "SELECT ?name WHERE {\n",
        "  ?a rdf:type ns:Animal .\n",
        "  ?a ns:knows ?otherAnimal .\n",
        "  ?otherAnimal rdf:type ns:Animal .\n",
        "  ?a vcard:FN ?name .\n",
        "  FILTER (?a != ?otherAnimal)\n",
        "}\n",
        "\"\"\"\n",
        "\n",
        "for r in g.query(q5):\n",
        "  print(r)"
      ],
      "metadata": {
        "id": "yoVwVZUAPaLm"
      },
      "execution_count": 16,
      "outputs": []
    },
    {
      "cell_type": "markdown",
      "source": [
        "**Task 7.6: List the age of all living things in descending order (in SPARQL only)**"
      ],
      "metadata": {
        "id": "oU_Rd2ByXBaV"
      }
    },
    {
      "cell_type": "code",
      "source": [
        "q6 = \"\"\"\n",
        "SELECT ?age WHERE {\n",
        "  ?lThing rdf:type ns:LivingThing .\n",
        "  ?lThing ns:age ?age .\n",
        "}\n",
        "ORDER BY DESC(?age)\n",
        "\"\"\"\n",
        "\n",
        "for r in g.query(q6):\n",
        "  print(r)"
      ],
      "metadata": {
        "id": "KPL9SUPiXEJZ"
      },
      "execution_count": 17,
      "outputs": []
    }
  ],
  "metadata": {
    "colab": {
      "provenance": []
    },
    "kernelspec": {
      "display_name": "Python 3 (ipykernel)",
      "language": "python",
      "name": "python3"
    },
    "language_info": {
      "codemirror_mode": {
        "name": "ipython",
        "version": 3
      },
      "file_extension": ".py",
      "mimetype": "text/x-python",
      "name": "python",
      "nbconvert_exporter": "python",
      "pygments_lexer": "ipython3",
      "version": "3.9.5"
    }
  },
  "nbformat": 4,
  "nbformat_minor": 0
}